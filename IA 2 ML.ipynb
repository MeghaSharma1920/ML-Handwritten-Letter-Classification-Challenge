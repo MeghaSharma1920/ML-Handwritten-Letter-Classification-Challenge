{
 "cells": [
  {
   "cell_type": "markdown",
   "metadata": {},
   "source": [
    "# Machine Learning Project - 2: Handwritten Letter Classification Challenge\n",
    "\n",
    "Train a machine learning model to classify any 10 letters from one of the Indian languages. The project involves the following steps;"
   ]
  },
  {
   "cell_type": "markdown",
   "metadata": {},
   "source": [
    "# 1. Collect images of handwritten letters of one of the Indian languages \n",
    "I collected handwritten images of 4 differenct alphabets of  Urdu language.Collected numerous picture of those alphabets and now we will create a model to decide if it can guess whichclass(the froup of same letter )out alphabet belongs to."
   ]
  },
  {
   "cell_type": "code",
   "execution_count": 1,
   "metadata": {},
   "outputs": [],
   "source": [
    "# Import classifiers and performance metrics\n",
    "import numpy as np\n",
    "import pandas as pd\n",
    "import itertools\n",
    "\n",
    "import tensorflow as tf\n",
    "from tensorflow import keras\n",
    "from keras import models\n",
    "from keras import layers\n",
    "from keras.models import Sequential\n",
    "from keras.layers import Dense, Dropout, Flatten\n",
    "from keras.callbacks import EarlyStopping\n",
    "from keras.layers.convolutional import Conv2D\n",
    "from keras.layers.convolutional import MaxPooling2D\n",
    "from keras.utils import np_utils\n",
    "\n",
    "import seaborn as sns\n",
    "import matplotlib.pyplot as plt\n",
    "\n",
    "import os\n",
    "\n",
    "from sklearn.model_selection import train_test_split\n",
    "from sklearn.ensemble import RandomForestClassifier\n",
    "from sklearn.tree import DecisionTreeClassifier\n",
    "from sklearn.svm import LinearSVC\n",
    "from sklearn.linear_model import LogisticRegression\n",
    "from sklearn.linear_model import SGDClassifier\n",
    "from sklearn.preprocessing import MinMaxScaler\n",
    "from sklearn.metrics import accuracy_score\n",
    "from sklearn.metrics import PrecisionRecallDisplay\n",
    "from sklearn.preprocessing import label_binarize\n",
    "from sklearn.metrics import roc_curve \n",
    "from sklearn.metrics import det_curve \n",
    "from sklearn.metrics import RocCurveDisplay\n",
    "from sklearn.metrics import roc_auc_score\n",
    "from sklearn.preprocessing import StandardScaler, OneHotEncoder, LabelBinarizer\n",
    "from sklearn.compose import make_column_transformer, make_column_selector\n",
    "from sklearn.metrics import classification_report, confusion_matrix, ConfusionMatrixDisplay\n",
    "\n",
    "import matplotlib.image as im\n",
    "\n",
    "#pip install opencv-python\n",
    "import cv2\n",
    "import glob"
   ]
  },
  {
   "cell_type": "code",
   "execution_count": 2,
   "metadata": {},
   "outputs": [],
   "source": [
    "PIXELS = 50                     # Macro defining number of pixels\n",
    "DIMENSIONS = PIXELS * PIXELS    # Defining a resolution for the sample images\n",
    "TESTING_SIZE = 0.20            # By convention 30% of dataset will be used for testing\n",
    "\n",
    "dataset_alif = []               # List declared to store image vectors of alif\n",
    "dataset_bay = []                # List declared to store image vectors of bay\n",
    "dataset_Jeem = []               # List declared to store image vectors of jeem\n",
    "dataset_daal = []               # List declared to store image vectors of daal\n",
    "\n",
    "images_of_alif = 0              # To keep track of number of alif images read from folder\n",
    "images_of_bay = 0               # To keep track of number of bay images read from folder\n",
    "images_of_Jeem = 0              # To keep track of number of jeem images read from folder\n",
    "images_of_daal = 0              # To keep track of number of daal images read from folder"
   ]
  },
  {
   "cell_type": "markdown",
   "metadata": {},
   "source": [
    "# Reading images of alif from the folder"
   ]
  },
  {
   "cell_type": "code",
   "execution_count": 3,
   "metadata": {},
   "outputs": [],
   "source": [
    "df = pd.read_csv(\"/home/user548/Desktop/IA_ML_2_202100703_ML_30122022/IA 2FINAL SUBMISSION/data.csv\")"
   ]
  },
  {
   "cell_type": "code",
   "execution_count": 4,
   "metadata": {},
   "outputs": [],
   "source": [
    "# reading images of alif from the folder\n",
    "for filename in os.listdir(\"/home/user548/Desktop/IA_ML_2_202100703_ML_30122022/IA 2FINAL SUBMISSION/dataset/Alif\"):\n",
    "    \n",
    "    img=cv2.imread(f\"/home/user548/Desktop/IA_ML_2_202100703_ML_30122022/IA 2FINAL SUBMISSION/dataset/Alif/{filename}\", cv2.IMREAD_GRAYSCALE)\n",
    "\n",
    "    cv2.imwrite(f\"/home/user548/Desktop/IA_ML_2_202100703_ML_30122022/IA 2FINAL SUBMISSION/dataset/Alif/{filename}\" , img)\n",
    " \n",
    "    img_50x50 = cv2.resize(img,(PIXELS,PIXELS))\n",
    "    img_instance = img_50x50.flatten()  \n",
    "\n",
    "    if DIMENSIONS != img_instance.size:\n",
    "        print(\"image pixel error\") \n",
    "    \n",
    "    dataset_alif.append(img_instance) \n",
    "    images_of_alif = images_of_alif + 1\n",
    "\n",
    "\n",
    "    # Generating matrix from list\n",
    "data1 = np.empty([images_of_alif, DIMENSIONS], dtype = list)\n",
    "for i in range(images_of_alif):\n",
    "    data1[i] = dataset_alif[i]\n",
    "\n",
    "    "
   ]
  },
  {
   "cell_type": "markdown",
   "metadata": {},
   "source": [
    "# Reading images of bay from the folder"
   ]
  },
  {
   "cell_type": "code",
   "execution_count": 5,
   "metadata": {},
   "outputs": [],
   "source": [
    "\n",
    "for filename in os.listdir(\"/home/user548/Desktop/IA_ML_2_202100703_ML_30122022/IA 2FINAL SUBMISSION/dataset/Bay\"):\n",
    "    \n",
    "    img=cv2.imread(f\"/home/user548/Desktop/IA_ML_2_202100703_ML_30122022/IA 2FINAL SUBMISSION/dataset/Bay/{filename}\", cv2.IMREAD_GRAYSCALE) \n",
    "    \n",
    "    cv2.imwrite(f\"/home/user548/Desktop/IA_ML_2_202100703_ML_30122022/IA 2FINAL SUBMISSION/dataset/Bay/{filename}\", img)\n",
    "\n",
    "    img_50x50 = cv2.resize(img,(PIXELS,PIXELS))\n",
    "    img_instance = img_50x50.flatten() \n",
    "\n",
    "    if DIMENSIONS != img_instance.size:\n",
    "        print(\"image pixel error\")\n",
    "    \n",
    "    dataset_bay.append(img_instance) \n",
    "    images_of_bay = images_of_bay + 1\n",
    "\n",
    "# Generating matrix from list\n",
    "data2 = np.empty([images_of_bay, DIMENSIONS], dtype = list)\n",
    "for i in range(images_of_bay):\n",
    "    data2[i] = dataset_bay[i]\n"
   ]
  },
  {
   "cell_type": "markdown",
   "metadata": {},
   "source": [
    "# Reading images of daal from the folder"
   ]
  },
  {
   "cell_type": "code",
   "execution_count": 6,
   "metadata": {},
   "outputs": [],
   "source": [
    "for filename in os.listdir(\"/home/user548/Desktop/IA_ML_2_202100703_ML_30122022/IA 2FINAL SUBMISSION/dataset/Daal\"):\n",
    "    \n",
    "    img=cv2.imread(f\"/home/user548/Desktop/IA_ML_2_202100703_ML_30122022/IA 2FINAL SUBMISSION/dataset/Daal/{filename}\", cv2.IMREAD_GRAYSCALE) \n",
    "    \n",
    "    cv2.imwrite(f\"/home/user548/Desktop/IA_ML_2_202100703_ML_30122022/IA 2FINAL SUBMISSION/dataset/Daal/{filename}\", img)\n",
    "\n",
    "    img_50x50 = cv2.resize(img,(PIXELS,PIXELS))\n",
    "    img_instance = img_50x50.flatten() \n",
    "\n",
    "    if DIMENSIONS != img_instance.size:\n",
    "        print(\"image pixel error\")\n",
    "    \n",
    "    dataset_daal.append(img_instance) \n",
    "    images_of_daal = images_of_daal + 1\n",
    "\n",
    "# Generating matrix from list\n",
    "data3 = np.empty([images_of_daal, DIMENSIONS], dtype = list)\n",
    "for i in range(images_of_daal):\n",
    "    data3[i] = dataset_daal[i]    "
   ]
  },
  {
   "cell_type": "markdown",
   "metadata": {},
   "source": [
    "# Reading images of jeem from the folder"
   ]
  },
  {
   "cell_type": "code",
   "execution_count": 7,
   "metadata": {},
   "outputs": [],
   "source": [
    "for filename in os.listdir(\"/home/user548/Desktop/IA_ML_2_202100703_ML_30122022/IA 2FINAL SUBMISSION/dataset/Jeem\"):\n",
    "    \n",
    "    img=cv2.imread(f\"/home/user548/Desktop/IA_ML_2_202100703_ML_30122022/IA 2FINAL SUBMISSION/dataset/Jeem/{filename}\", cv2.IMREAD_GRAYSCALE) \n",
    "    \n",
    "    cv2.imwrite(f\"/home/user548/Desktop/IA_ML_2_202100703_ML_30122022/IA 2FINAL SUBMISSION/dataset/Jeem/{filename}\", img)\n",
    "\n",
    "    img_50x50 = cv2.resize(img,(PIXELS,PIXELS))\n",
    "    img_instance = img_50x50.flatten() \n",
    "\n",
    "    if DIMENSIONS != img_instance.size:\n",
    "        print(\"image pixel error\")\n",
    "    \n",
    "    dataset_Jeem.append(img_instance) \n",
    "    images_of_Jeem = images_of_Jeem + 1\n",
    "\n",
    "# Generating matrix from list\n",
    "data4 = np.empty([images_of_Jeem, DIMENSIONS], dtype = list)\n",
    "for i in range(images_of_Jeem):\n",
    "    data4[i] = dataset_Jeem[i]    "
   ]
  },
  {
   "cell_type": "code",
   "execution_count": 8,
   "metadata": {},
   "outputs": [
    {
     "name": "stdout",
     "output_type": "stream",
     "text": [
      "Total Instances in the data set: 2000\n",
      "Total Features or Dimension of data set: 2500\n"
     ]
    }
   ],
   "source": [
    "# Determining total number of image instances \n",
    "instances = images_of_alif + images_of_bay + images_of_Jeem + images_of_daal\n",
    "instances\n",
    "print(\"Total Instances in the data set:\", instances)\n",
    "print(\"Total Features or Dimension of data set:\" , DIMENSIONS)"
   ]
  },
  {
   "cell_type": "code",
   "execution_count": 9,
   "metadata": {},
   "outputs": [
    {
     "name": "stdout",
     "output_type": "stream",
     "text": [
      "My X matrix of order (2000, 2500) is given as follows:  [[255 255 255 ... 255 255 255]\n",
      " [252 207 253 ... 255 255 255]\n",
      " [255 253 253 ... 255 255 255]\n",
      " ...\n",
      " [255 255 255 ... 255 255 253]\n",
      " [255 255 255 ... 255 255 255]\n",
      " [255 255 255 ... 246 250 247]]\n"
     ]
    }
   ],
   "source": [
    "# Stacking the individual matrices\n",
    "x = np.concatenate((data1, data2, data3, data4))\n",
    "\n",
    "# Generating the data matrix\n",
    "print(\"My X matrix of order\", x.shape, \"is given as follows: \", x)"
   ]
  },
  {
   "cell_type": "code",
   "execution_count": 10,
   "metadata": {},
   "outputs": [],
   "source": [
    "# Generating tags for the instances\n",
    "tag_alif = np.full((images_of_alif, 1), 1, dtype=int)\n",
    "tag_bay = np.full((images_of_bay, 1), 2, dtype=int)\n",
    "tag_jeem = np.full((images_of_Jeem, 1), 3, dtype=int)\n",
    "tag_daal = np.full((images_of_daal, 1), 4, dtype=int)"
   ]
  },
  {
   "cell_type": "code",
   "execution_count": 11,
   "metadata": {},
   "outputs": [
    {
     "name": "stdout",
     "output_type": "stream",
     "text": [
      "My tags are: [[1]\n",
      " [1]\n",
      " [1]\n",
      " ...\n",
      " [4]\n",
      " [4]\n",
      " [4]]\n"
     ]
    }
   ],
   "source": [
    "# Generating the tag vector\n",
    "tag_vector = np.concatenate((tag_alif,tag_bay,tag_jeem,tag_daal))\n",
    "print(\"My tags are:\", tag_vector)"
   ]
  },
  {
   "cell_type": "code",
   "execution_count": 12,
   "metadata": {},
   "outputs": [],
   "source": [
    "# Converting vector to 1D array\n",
    "y = np.ravel(tag_vector, order='A')"
   ]
  },
  {
   "cell_type": "markdown",
   "metadata": {},
   "source": [
    "# 2. Split the data into train and test tests (80% train and 20% test)"
   ]
  },
  {
   "cell_type": "code",
   "execution_count": 13,
   "metadata": {},
   "outputs": [],
   "source": [
    "# Splitting data for testing and training\n",
    "X_train, X_test, y_train, y_test = train_test_split(x, y, test_size = TESTING_SIZE)"
   ]
  },
  {
   "cell_type": "code",
   "execution_count": 14,
   "metadata": {},
   "outputs": [],
   "source": [
    "scalar = StandardScaler()\n",
    "X_train_scalar = scalar.fit_transform(X_train)\n",
    "X_test_scalar = scalar.transform(X_test)"
   ]
  },
  {
   "cell_type": "markdown",
   "metadata": {},
   "source": [
    "# 4. Train a classification model using neural networks and support vector machines on the training data"
   ]
  },
  {
   "cell_type": "markdown",
   "metadata": {},
   "source": [
    "# SGDClassifier"
   ]
  },
  {
   "cell_type": "code",
   "execution_count": 15,
   "metadata": {},
   "outputs": [],
   "source": [
    " #!pip install sklearn"
   ]
  },
  {
   "cell_type": "code",
   "execution_count": 16,
   "metadata": {},
   "outputs": [
    {
     "name": "stdout",
     "output_type": "stream",
     "text": [
      "Stochastic Gradient Descent Classifier: AUROC = 0.500\n",
      "Accuracy score of Stochastic Gradient Descent Classifier 0.77\n",
      "Classification report for Stochastic Gradient Descent Classifier SGDClassifier(loss='modified_huber'):\n",
      "              precision    recall  f1-score   support\n",
      "\n",
      "           1       0.79      0.71      0.74       109\n",
      "           2       0.83      0.84      0.83        99\n",
      "           3       0.59      0.68      0.63        92\n",
      "           4       0.89      0.85      0.87       100\n",
      "\n",
      "    accuracy                           0.77       400\n",
      "   macro avg       0.77      0.77      0.77       400\n",
      "weighted avg       0.78      0.77      0.77       400\n",
      "\n",
      "\n"
     ]
    },
    {
     "data": {
      "image/png": "[encoded data removed]",
      "text/plain": [
       "<matplotlib.figure.Figure at 0x7f40df4cd0b8>"
      ]
     },
     "metadata": {},
     "output_type": "display_data"
    }
   ],
   "source": [
    "model_5 = SGDClassifier(loss='modified_huber')\n",
    "model_5.fit(X_train_scalar, y_train)\n",
    "predictions = model_5.predict(X_test_scalar)\n",
    "\n",
    "sgdc_probs = model_5.predict_proba(X_test)\n",
    "sgdc_auc = roc_auc_score(y_test, sgdc_probs, multi_class='ovr')\n",
    "\n",
    "\n",
    "print(\"Stochastic Gradient Descent Classifier: AUROC = %.3f\" %(sgdc_auc))\n",
    "\n",
    "print(\"Accuracy score of Stochastic Gradient Descent Classifier\" , accuracy_score(y_test, predictions))\n",
    "print(\n",
    "    f\"Classification report for Stochastic Gradient Descent Classifier {model_5}:\\n\"\n",
    "    f\"{classification_report(y_test, predictions)}\\n\"\n",
    ")\n",
    "confusion_matrix1  =confusion_matrix(y_test, predictions)\n",
    "display = ConfusionMatrixDisplay(confusion_matrix1).plot()\n",
    "plt.show()\n",
    "\n",
    "Model_5_report = classification_report(y_test, predictions, output_dict=True)\n",
    "model_5_df = pd.DataFrame(Model_5_report).transpose()\n",
    "\n",
    "plt.show() "
   ]
  },
  {
   "cell_type": "markdown",
   "metadata": {},
   "source": [
    "# SVM CLASSIFIER\n"
   ]
  },
  {
   "cell_type": "code",
   "execution_count": 18,
   "metadata": {},
   "outputs": [
    {
     "name": "stderr",
     "output_type": "stream",
     "text": [
      "/usr/local/lib/python3.6/dist-packages/sklearn/svm/_base.py:986: ConvergenceWarning: Liblinear failed to converge, increase the number of iterations.\n",
      "  \"the number of iterations.\", ConvergenceWarning)\n"
     ]
    },
    {
     "name": "stdout",
     "output_type": "stream",
     "text": [
      "SVM Classifier: AUROC = 0.894\n",
      "Accuracy score of SVM Classifier: 0.7\n",
      "Classification report for SVM Classifier LinearSVC(max_iter=1500):\n",
      "              precision    recall  f1-score   support\n",
      "\n",
      "           1       0.76      0.58      0.66       109\n",
      "           2       0.73      0.77      0.75        99\n",
      "           3       0.53      0.77      0.63        92\n",
      "           4       0.88      0.70      0.78       100\n",
      "\n",
      "    accuracy                           0.70       400\n",
      "   macro avg       0.72      0.70      0.70       400\n",
      "weighted avg       0.73      0.70      0.70       400\n",
      "\n",
      "\n"
     ]
    },
    {
     "data": {
      "image/png": "[encoded data removed]",
      "text/plain": [
       "<matplotlib.figure.Figure at 0x7f40df16b0f0>"
      ]
     },
     "metadata": {},
     "output_type": "display_data"
    }
   ],
   "source": [
    "model_2 = LinearSVC(max_iter=1500, multi_class='ovr')\n",
    "model_2.fit(X_train, y_train)\n",
    "\n",
    "predictions = model_2.predict(X_test)\n",
    "svc_probs = model_2._predict_proba_lr(X_test)\n",
    "\n",
    "svc_auc = roc_auc_score(y_test, svc_probs, multi_class='ovr')\n",
    "print(\"SVM Classifier: AUROC = %.3f\" %(svc_auc))\n",
    "print(\"Accuracy score of SVM Classifier:\" , accuracy_score(y_test, predictions))\n",
    "print(\n",
    "    f\"Classification report for SVM Classifier {model_2}:\\n\"\n",
    "    f\"{classification_report(y_test, predictions)}\\n\"\n",
    ")\n",
    "\n",
    "confusion_matrix2  =confusion_matrix(y_test, predictions)\n",
    "display = ConfusionMatrixDisplay(confusion_matrix2).plot()\n",
    "plt.show()\n",
    "\n",
    "Model_2_report = classification_report(y_test, predictions, output_dict=True)\n",
    "model_2_df = pd.DataFrame(Model_5_report).transpose()\n",
    "\n",
    "plt.show() "
   ]
  },
  {
   "cell_type": "markdown",
   "metadata": {},
   "source": [
    "# Convolutional neural networks (CNNs)"
   ]
  },
  {
   "cell_type": "code",
   "execution_count": 20,
   "metadata": {},
   "outputs": [
    {
     "name": "stdout",
     "output_type": "stream",
     "text": [
      "Training data shape :  (1600, 2500) (1600,)\n",
      "Testing data shape :  (400, 2500) (400,)\n"
     ]
    }
   ],
   "source": [
    "from tensorflow.keras.utils import to_categorical\n",
    "print('Training data shape : ', X_train.shape, y_train.shape)\n",
    "print('Testing data shape : ',  X_test.shape, y_test.shape)"
   ]
  },
  {
   "cell_type": "code",
   "execution_count": 21,
   "metadata": {},
   "outputs": [
    {
     "name": "stdout",
     "output_type": "stream",
     "text": [
      "Total number of outputs :  4\n",
      "Output classes :  [1 2 3 4]\n"
     ]
    }
   ],
   "source": [
    "# Find the unique numbers from the train labels\n",
    "classes = np.unique(y_train)\n",
    "nClasses = len(classes)\n",
    "print('Total number of outputs : ', nClasses)\n",
    "print('Output classes : ', classes)"
   ]
  },
  {
   "cell_type": "markdown",
   "metadata": {},
   "source": [
    "also, these images have a dimension of 50*50. As a result, you'll need to preprocess the data before you feed it into the model.\n",
    "As a first step, convert each 50*50 image of the train and test set into a matrix of size 28 x 28 x 1 which is fed into the network."
   ]
  },
  {
   "cell_type": "code",
   "execution_count": 22,
   "metadata": {},
   "outputs": [
    {
     "data": {
      "text/plain": [
       "((1600, 50, 50, 1), (400, 50, 50, 1))"
      ]
     },
     "execution_count": 22,
     "metadata": {},
     "output_type": "execute_result"
    }
   ],
   "source": [
    "X_train = X_train.reshape(-1,50,50, 1)\n",
    "X_test = X_test.reshape(-1,50,50, 1)\n",
    "X_train.shape, X_test.shape"
   ]
  },
  {
   "cell_type": "markdown",
   "metadata": {},
   "source": [
    "The data right now is in an int8 format, so before you feed it into the network you need to convert its type to float32, and you also have to rescale the pixel values in range 0 - 1 inclusive. So let's do that!"
   ]
  },
  {
   "cell_type": "code",
   "execution_count": 23,
   "metadata": {},
   "outputs": [],
   "source": [
    "X_train = X_train.astype('float32')\n",
    "X_test= X_test.astype('float32')\n",
    "X_train = X_train /50.\n",
    "X_test = X_test /50."
   ]
  },
  {
   "cell_type": "markdown",
   "metadata": {},
   "source": [
    "Now ,Converting the class labels into a one-hot encoding vector.\n",
    "In one-hot encoding,we convert the categorical data into a vector of numbers. The reason why we convert the categorical data in one hot encoding is that machine learning algorithms cannot work with categorical data directly. You generate one boolean column for each category or class. Only one of these columns could take on the value 1 for each sample. Hence, the term one-hot encoding.\n",
    "\n",
    "For this problem statement, the one hot encoding will be a row vector, and for each image The important thing to note here is that the vector consists of all zeros except for the class that it represents\n",
    "\n",
    "So let's convert the training and testing labels into one-hot encoding vectors:"
   ]
  },
  {
   "cell_type": "code",
   "execution_count": 24,
   "metadata": {},
   "outputs": [
    {
     "name": "stdout",
     "output_type": "stream",
     "text": [
      "Original label: 1\n",
      "After conversion to one-hot: [0. 1. 0. 0. 0.]\n"
     ]
    }
   ],
   "source": [
    "# Change the labels from categorical to one-hot encoding\n",
    "train_Y_one_hot = to_categorical(y_train)\n",
    "test_Y_one_hot = to_categorical(y_test)\n",
    "\n",
    "# Display the change for category label using one-hot encoding\n",
    "print('Original label:', y_train[0])\n",
    "print('After conversion to one-hot:', train_Y_one_hot[0])"
   ]
  },
  {
   "cell_type": "markdown",
   "metadata": {},
   "source": [
    "For the model to generalize well, split the training data into two parts, one designed for training and another one for validation. In this case, train the model on 80\\% of the training data and validate it on 20\\% of the remaining training data. This will also help to reduce overfitting since ,I will be validating the model on the data it would not have seen in training phase, which will help in boosting the test performance."
   ]
  },
  {
   "cell_type": "code",
   "execution_count": 25,
   "metadata": {},
   "outputs": [],
   "source": [
    "from sklearn.model_selection import train_test_split\n",
    "train_X,valid_X,train_label,valid_label = train_test_split(X_train, train_Y_one_hot, test_size=0.2, random_state=13)"
   ]
  },
  {
   "cell_type": "code",
   "execution_count": 26,
   "metadata": {},
   "outputs": [
    {
     "data": {
      "text/plain": [
       "((1280, 50, 50, 1), (320, 50, 50, 1), (1280, 5), (320, 5))"
      ]
     },
     "execution_count": 26,
     "metadata": {},
     "output_type": "execute_result"
    }
   ],
   "source": [
    "#For one last time let's check the shape of training and validation set.\n",
    "\n",
    "train_X.shape,valid_X.shape,train_label.shape,valid_label.shape"
   ]
  },
  {
   "cell_type": "code",
   "execution_count": 27,
   "metadata": {},
   "outputs": [],
   "source": [
    "#Model the Data\n",
    "#First, let's import all the necessary modules required to train the model.\n",
    "\n",
    "import keras\n",
    "from keras.models import Sequential,Model\n",
    "from keras.layers import Dense, Dropout, Flatten\n",
    "from keras.layers import Conv2D, MaxPooling2D\n",
    "from keras.layers import LeakyReLU\n",
    "\n"
   ]
  },
  {
   "cell_type": "markdown",
   "metadata": {},
   "source": [
    "using a batch size of 64 using a higher batch size of 128 or 256 is also preferable it all depends on the memory. It contributes massively to determining the learning parameters and affects the prediction accuracy.Will train the network for 20 epochs."
   ]
  },
  {
   "cell_type": "code",
   "execution_count": 28,
   "metadata": {},
   "outputs": [],
   "source": [
    "batch_size = 64\n",
    "epochs = 20\n",
    "num_classes = 5"
   ]
  },
  {
   "cell_type": "markdown",
   "metadata": {},
   "source": [
    "# 6.Fine tune the parameters to increase the classification accuracies of the model on training and test data."
   ]
  },
  {
   "cell_type": "code",
   "execution_count": 29,
   "metadata": {},
   "outputs": [],
   "source": [
    "# without dropout layers to help in case of overfitting\n",
    "model = Sequential()\n",
    "model.add(Conv2D(32, kernel_size=(3, 3),activation='linear',input_shape=(50,50,1),padding='same'))\n",
    "model.add(LeakyReLU(alpha=0.1))\n",
    "model.add(MaxPooling2D((2, 2),padding='same'))\n",
    "model.add(Conv2D(64, (3, 3), activation='linear',padding='same'))\n",
    "model.add(LeakyReLU(alpha=0.1))\n",
    "model.add(MaxPooling2D(pool_size=(2, 2),padding='same'))\n",
    "model.add(Conv2D(128, (3, 3), activation='linear',padding='same'))\n",
    "model.add(LeakyReLU(alpha=0.1))                  \n",
    "model.add(MaxPooling2D(pool_size=(2, 2),padding='same'))\n",
    "model.add(Flatten())\n",
    "model.add(Dense(128, activation='linear'))\n",
    "model.add(LeakyReLU(alpha=0.1))   \n",
    "model.add(Dense(num_classes, activation='softmax'))"
   ]
  },
  {
   "cell_type": "code",
   "execution_count": 30,
   "metadata": {},
   "outputs": [
    {
     "name": "stdout",
     "output_type": "stream",
     "text": [
      "Model: \"sequential\"\n",
      "_________________________________________________________________\n",
      "Layer (type)                 Output Shape              Param #   \n",
      "=================================================================\n",
      "conv2d (Conv2D)              (None, 50, 50, 32)        320       \n",
      "_________________________________________________________________\n",
      "leaky_re_lu (LeakyReLU)      (None, 50, 50, 32)        0         \n",
      "_________________________________________________________________\n",
      "max_pooling2d (MaxPooling2D) (None, 25, 25, 32)        0         \n",
      "_________________________________________________________________\n",
      "conv2d_1 (Conv2D)            (None, 25, 25, 64)        18496     \n",
      "_________________________________________________________________\n",
      "leaky_re_lu_1 (LeakyReLU)    (None, 25, 25, 64)        0         \n",
      "_________________________________________________________________\n",
      "max_pooling2d_1 (MaxPooling2 (None, 13, 13, 64)        0         \n",
      "_________________________________________________________________\n",
      "conv2d_2 (Conv2D)            (None, 13, 13, 128)       73856     \n",
      "_________________________________________________________________\n",
      "leaky_re_lu_2 (LeakyReLU)    (None, 13, 13, 128)       0         \n",
      "_________________________________________________________________\n",
      "max_pooling2d_2 (MaxPooling2 (None, 7, 7, 128)         0         \n",
      "_________________________________________________________________\n",
      "flatten (Flatten)            (None, 6272)              0         \n",
      "_________________________________________________________________\n",
      "dense (Dense)                (None, 128)               802944    \n",
      "_________________________________________________________________\n",
      "leaky_re_lu_3 (LeakyReLU)    (None, 128)               0         \n",
      "_________________________________________________________________\n",
      "dense_1 (Dense)              (None, 5)                 645       \n",
      "=================================================================\n",
      "Total params: 896,261\n",
      "Trainable params: 896,261\n",
      "Non-trainable params: 0\n",
      "_________________________________________________________________\n"
     ]
    }
   ],
   "source": [
    "model.summary()"
   ]
  },
  {
   "cell_type": "code",
   "execution_count": 31,
   "metadata": {},
   "outputs": [],
   "source": [
    "# we added dropout layers to help in case of overfitting\n",
    "model = Sequential()\n",
    "model.add(Conv2D(32, kernel_size=(3, 3),activation='linear',input_shape=(50,50,1),padding='same'))\n",
    "model.add(LeakyReLU(alpha=0.1))\n",
    "model.add(MaxPooling2D((2, 2),padding='same'))\n",
    "model.add(Dropout(0.25))\n",
    "model.add(Conv2D(64, (3, 3), activation='linear',padding='same'))\n",
    "model.add(LeakyReLU(alpha=0.1))\n",
    "model.add(MaxPooling2D(pool_size=(2, 2),padding='same'))\n",
    "model.add(Dropout(0.25))\n",
    "model.add(Conv2D(128, (3, 3), activation='linear',padding='same'))\n",
    "model.add(LeakyReLU(alpha=0.1))                  \n",
    "model.add(MaxPooling2D(pool_size=(2, 2),padding='same'))\n",
    "model.add(Dropout(0.4))\n",
    "model.add(Flatten())\n",
    "model.add(Dense(128, activation='linear'))\n",
    "model.add(LeakyReLU(alpha=0.1))   \n",
    "model.add(Dropout(0.3))\n",
    "model.add(Dense(num_classes, activation='softmax'))"
   ]
  },
  {
   "cell_type": "code",
   "execution_count": 40,
   "metadata": {},
   "outputs": [],
   "source": [
    "#Compile the Model\n",
    "model.compile(loss=keras.losses.categorical_crossentropy, optimizer= tf.keras.optimizers.Adam(),metrics=['accuracy'])\n"
   ]
  },
  {
   "cell_type": "markdown",
   "metadata": {},
   "source": [
    "Visualizing the layers that were created in the above step by using the summary function. This will show some parameters (weights and biases) in each layer and also the total parameters in your model"
   ]
  },
  {
   "cell_type": "code",
   "execution_count": 41,
   "metadata": {},
   "outputs": [
    {
     "name": "stdout",
     "output_type": "stream",
     "text": [
      "Model: \"sequential_1\"\n",
      "_________________________________________________________________\n",
      "Layer (type)                 Output Shape              Param #   \n",
      "=================================================================\n",
      "conv2d_3 (Conv2D)            (None, 50, 50, 32)        320       \n",
      "_________________________________________________________________\n",
      "leaky_re_lu_4 (LeakyReLU)    (None, 50, 50, 32)        0         \n",
      "_________________________________________________________________\n",
      "max_pooling2d_3 (MaxPooling2 (None, 25, 25, 32)        0         \n",
      "_________________________________________________________________\n",
      "dropout (Dropout)            (None, 25, 25, 32)        0         \n",
      "_________________________________________________________________\n",
      "conv2d_4 (Conv2D)            (None, 25, 25, 64)        18496     \n",
      "_________________________________________________________________\n",
      "leaky_re_lu_5 (LeakyReLU)    (None, 25, 25, 64)        0         \n",
      "_________________________________________________________________\n",
      "max_pooling2d_4 (MaxPooling2 (None, 13, 13, 64)        0         \n",
      "_________________________________________________________________\n",
      "dropout_1 (Dropout)          (None, 13, 13, 64)        0         \n",
      "_________________________________________________________________\n",
      "conv2d_5 (Conv2D)            (None, 13, 13, 128)       73856     \n",
      "_________________________________________________________________\n",
      "leaky_re_lu_6 (LeakyReLU)    (None, 13, 13, 128)       0         \n",
      "_________________________________________________________________\n",
      "max_pooling2d_5 (MaxPooling2 (None, 7, 7, 128)         0         \n",
      "_________________________________________________________________\n",
      "dropout_2 (Dropout)          (None, 7, 7, 128)         0         \n",
      "_________________________________________________________________\n",
      "flatten_1 (Flatten)          (None, 6272)              0         \n",
      "_________________________________________________________________\n",
      "dense_2 (Dense)              (None, 128)               802944    \n",
      "_________________________________________________________________\n",
      "leaky_re_lu_7 (LeakyReLU)    (None, 128)               0         \n",
      "_________________________________________________________________\n",
      "dropout_3 (Dropout)          (None, 128)               0         \n",
      "_________________________________________________________________\n",
      "dense_3 (Dense)              (None, 5)                 645       \n",
      "=================================================================\n",
      "Total params: 896,261\n",
      "Trainable params: 896,261\n",
      "Non-trainable params: 0\n",
      "_________________________________________________________________\n"
     ]
    }
   ],
   "source": [
    "model.summary()"
   ]
  },
  {
   "cell_type": "markdown",
   "metadata": {},
   "source": [
    "#Train the Model\n",
    "\n",
    "\n",
    "Finally,train the model with Keras' fit() function! \n",
    "\n",
    "The model trains for 20 epochs. The fit() function will return a history object; By storying the result of this function in fashion_train, you can use it later to plot the accuracy and loss function plots between training and validation which will help  to analyze model's performance visually."
   ]
  },
  {
   "cell_type": "code",
   "execution_count": 42,
   "metadata": {},
   "outputs": [
    {
     "name": "stdout",
     "output_type": "stream",
     "text": [
      "Epoch 1/20\n",
      "20/20 [==============================] - 13s 606ms/step - loss: 0.0573 - accuracy: 0.9789 - val_loss: 0.0097 - val_accuracy: 0.9937\n",
      "Epoch 2/20\n",
      "20/20 [==============================] - 11s 548ms/step - loss: 0.0527 - accuracy: 0.9844 - val_loss: 0.0293 - val_accuracy: 0.9906\n",
      "Epoch 3/20\n",
      "20/20 [==============================] - 11s 544ms/step - loss: 0.0473 - accuracy: 0.9852 - val_loss: 0.0135 - val_accuracy: 0.9937\n",
      "Epoch 4/20\n",
      "20/20 [==============================] - 11s 551ms/step - loss: 0.0514 - accuracy: 0.9836 - val_loss: 0.0282 - val_accuracy: 0.9937\n",
      "Epoch 5/20\n",
      "20/20 [==============================] - 11s 546ms/step - loss: 0.0577 - accuracy: 0.9812 - val_loss: 0.0106 - val_accuracy: 0.9969\n",
      "Epoch 6/20\n",
      "20/20 [==============================] - 11s 543ms/step - loss: 0.0195 - accuracy: 0.9914 - val_loss: 0.0171 - val_accuracy: 0.9937\n",
      "Epoch 7/20\n",
      "20/20 [==============================] - 11s 563ms/step - loss: 0.0165 - accuracy: 0.9945 - val_loss: 0.0014 - val_accuracy: 1.0000\n",
      "Epoch 8/20\n",
      "20/20 [==============================] - 11s 543ms/step - loss: 0.0226 - accuracy: 0.9945 - val_loss: 0.0033 - val_accuracy: 1.0000\n",
      "Epoch 9/20\n",
      "20/20 [==============================] - 12s 606ms/step - loss: 0.0357 - accuracy: 0.9883 - val_loss: 0.0091 - val_accuracy: 0.9969\n",
      "Epoch 10/20\n",
      "20/20 [==============================] - 11s 573ms/step - loss: 0.0284 - accuracy: 0.9914 - val_loss: 0.0040 - val_accuracy: 1.0000\n",
      "Epoch 11/20\n",
      "20/20 [==============================] - 11s 559ms/step - loss: 0.0229 - accuracy: 0.9937 - val_loss: 0.0038 - val_accuracy: 1.0000\n",
      "Epoch 12/20\n",
      "20/20 [==============================] - 12s 612ms/step - loss: 0.0151 - accuracy: 0.9961 - val_loss: 0.0026 - val_accuracy: 1.0000\n",
      "Epoch 13/20\n",
      "20/20 [==============================] - 12s 600ms/step - loss: 0.0101 - accuracy: 0.9977 - val_loss: 0.0054 - val_accuracy: 0.9969\n",
      "Epoch 14/20\n",
      "20/20 [==============================] - 11s 543ms/step - loss: 0.0217 - accuracy: 0.9945 - val_loss: 0.0026 - val_accuracy: 1.0000\n",
      "Epoch 15/20\n",
      "20/20 [==============================] - 11s 549ms/step - loss: 0.0210 - accuracy: 0.9914 - val_loss: 0.0017 - val_accuracy: 1.0000\n",
      "Epoch 16/20\n",
      "20/20 [==============================] - 11s 546ms/step - loss: 0.0294 - accuracy: 0.9906 - val_loss: 0.0030 - val_accuracy: 1.0000\n",
      "Epoch 17/20\n",
      "20/20 [==============================] - 11s 546ms/step - loss: 0.0132 - accuracy: 0.9953 - val_loss: 8.4088e-04 - val_accuracy: 1.0000\n",
      "Epoch 18/20\n",
      "20/20 [==============================] - 11s 547ms/step - loss: 0.0070 - accuracy: 0.9984 - val_loss: 0.0210 - val_accuracy: 0.9875\n",
      "Epoch 19/20\n",
      "20/20 [==============================] - 11s 546ms/step - loss: 0.0098 - accuracy: 0.9969 - val_loss: 9.0847e-04 - val_accuracy: 1.0000\n",
      "Epoch 20/20\n",
      "20/20 [==============================] - 11s 555ms/step - loss: 0.0117 - accuracy: 0.9953 - val_loss: 0.0016 - val_accuracy: 1.0000\n"
     ]
    }
   ],
   "source": [
    "mtrain = model.fit(train_X, train_label, batch_size=batch_size,epochs=epochs,verbose=1,validation_data=(valid_X, valid_label))\n"
   ]
  },
  {
   "cell_type": "markdown",
   "metadata": {},
   "source": [
    "Finally! We trained the model on urdu handwriting for 20 epochs, and by observing the training accuracy and loss, you can say that the model did a good job since after 20 epochs the training accuracy is 99% and the training loss is quite low (5.2598e-04).\n",
    "\n",
    "However, it looks like the model is overfitting, as the validation loss is 0.0258 and the validation accuracy is 92%. \n",
    "\n",
    "Overfitting gives an intuition that the network has memorized the training data very well but is not guaranteed to work on unseen data, and that is why there is a difference in the training and validation accuracy.\n",
    "\n",
    "We addedd dropout layer to handle overfitting.\n",
    "\n",
    "But first, let's evaluate the performance of your model on the test set before you come on to a conclusion."
   ]
  },
  {
   "cell_type": "markdown",
   "metadata": {},
   "source": [
    "# 5. Validate the model on the test data "
   ]
  },
  {
   "cell_type": "code",
   "execution_count": 43,
   "metadata": {},
   "outputs": [],
   "source": [
    "#Model Evaluation on the Test Set\n",
    "test_eval = model.evaluate(X_test, test_Y_one_hot, verbose=0)\n"
   ]
  },
  {
   "cell_type": "code",
   "execution_count": 44,
   "metadata": {},
   "outputs": [
    {
     "name": "stdout",
     "output_type": "stream",
     "text": [
      "Test loss: 0.1089424192905426\n",
      "Test accuracy: 0.9800000190734863\n"
     ]
    }
   ],
   "source": [
    "print('Test loss:', test_eval[0])\n",
    "print('Test accuracy:', test_eval[1])\n"
   ]
  },
  {
   "cell_type": "markdown",
   "metadata": {},
   "source": [
    "The test accuracy looks impressive. It turns out that your classifier does better than the benchmark of an SVM classifier with mean accuracy of is 0.725 and benchmark of an Gradient boosting classifier with mean accuracy of is 0.7975.\n",
    "\n",
    "Let's put your model evaluation into perspective and plot the accuracy and loss plots between training and validation data:"
   ]
  },
  {
   "cell_type": "code",
   "execution_count": 46,
   "metadata": {},
   "outputs": [],
   "source": [
    "model.compile(loss=keras.losses.categorical_crossentropy, optimizer=tf.keras.optimizers.Adam(),metrics=['accuracy'])\n"
   ]
  },
  {
   "cell_type": "code",
   "execution_count": 47,
   "metadata": {},
   "outputs": [
    {
     "name": "stdout",
     "output_type": "stream",
     "text": [
      "Epoch 1/20\n",
      "20/20 [==============================] - 12s 576ms/step - loss: 0.0062 - accuracy: 0.9977 - val_loss: 0.0011 - val_accuracy: 1.0000\n",
      "Epoch 2/20\n",
      "20/20 [==============================] - 11s 531ms/step - loss: 0.0124 - accuracy: 0.9969 - val_loss: 0.0038 - val_accuracy: 0.9969\n",
      "Epoch 3/20\n",
      "20/20 [==============================] - 10s 522ms/step - loss: 0.0181 - accuracy: 0.9969 - val_loss: 0.0012 - val_accuracy: 1.0000\n",
      "Epoch 4/20\n",
      "20/20 [==============================] - 10s 519ms/step - loss: 0.0124 - accuracy: 0.9961 - val_loss: 0.0107 - val_accuracy: 0.9937\n",
      "Epoch 5/20\n",
      "20/20 [==============================] - 11s 535ms/step - loss: 0.0267 - accuracy: 0.9914 - val_loss: 0.0069 - val_accuracy: 0.9969\n",
      "Epoch 6/20\n",
      "20/20 [==============================] - 10s 520ms/step - loss: 0.0207 - accuracy: 0.9891 - val_loss: 0.0277 - val_accuracy: 0.9875\n",
      "Epoch 7/20\n",
      "20/20 [==============================] - 10s 522ms/step - loss: 0.0089 - accuracy: 0.9977 - val_loss: 1.7871e-04 - val_accuracy: 1.0000\n",
      "Epoch 8/20\n",
      "20/20 [==============================] - 11s 530ms/step - loss: 0.0191 - accuracy: 0.9945 - val_loss: 0.0039 - val_accuracy: 1.0000\n",
      "Epoch 9/20\n",
      "20/20 [==============================] - 10s 526ms/step - loss: 0.0346 - accuracy: 0.9930 - val_loss: 0.0065 - val_accuracy: 0.9969\n",
      "Epoch 10/20\n",
      "20/20 [==============================] - 10s 524ms/step - loss: 0.0301 - accuracy: 0.9914 - val_loss: 9.0867e-04 - val_accuracy: 1.0000\n",
      "Epoch 11/20\n",
      "20/20 [==============================] - 11s 530ms/step - loss: 0.0157 - accuracy: 0.9953 - val_loss: 0.0061 - val_accuracy: 1.0000\n",
      "Epoch 12/20\n",
      "20/20 [==============================] - 10s 525ms/step - loss: 0.0123 - accuracy: 0.9953 - val_loss: 4.3405e-04 - val_accuracy: 1.0000\n",
      "Epoch 13/20\n",
      "20/20 [==============================] - 11s 527ms/step - loss: 0.0094 - accuracy: 0.9961 - val_loss: 9.2440e-04 - val_accuracy: 1.0000\n",
      "Epoch 14/20\n",
      "20/20 [==============================] - 11s 530ms/step - loss: 0.0047 - accuracy: 0.9977 - val_loss: 0.0018 - val_accuracy: 1.0000\n",
      "Epoch 15/20\n",
      "20/20 [==============================] - 11s 539ms/step - loss: 0.0118 - accuracy: 0.9937 - val_loss: 3.8234e-04 - val_accuracy: 1.0000\n",
      "Epoch 16/20\n",
      "20/20 [==============================] - 11s 537ms/step - loss: 0.0072 - accuracy: 0.9969 - val_loss: 7.1442e-04 - val_accuracy: 1.0000\n",
      "Epoch 17/20\n",
      "20/20 [==============================] - 11s 528ms/step - loss: 0.0055 - accuracy: 0.9969 - val_loss: 4.8344e-04 - val_accuracy: 1.0000\n",
      "Epoch 18/20\n",
      "20/20 [==============================] - 10s 524ms/step - loss: 0.0048 - accuracy: 0.9977 - val_loss: 8.3360e-05 - val_accuracy: 1.0000\n",
      "Epoch 19/20\n",
      "20/20 [==============================] - 11s 527ms/step - loss: 0.0018 - accuracy: 0.9992 - val_loss: 4.8894e-05 - val_accuracy: 1.0000\n",
      "Epoch 20/20\n",
      "20/20 [==============================] - 11s 529ms/step - loss: 0.0116 - accuracy: 0.9969 - val_loss: 0.0266 - val_accuracy: 0.9937\n"
     ]
    }
   ],
   "source": [
    "mtrain_dropout = model.fit(train_X, train_label, batch_size=batch_size,epochs=epochs,verbose=1,validation_data \n",
    "                           =(valid_X, valid_label))\n"
   ]
  },
  {
   "cell_type": "code",
   "execution_count": 48,
   "metadata": {},
   "outputs": [],
   "source": [
    "predicted_classes = model.predict(X_test)"
   ]
  },
  {
   "cell_type": "markdown",
   "metadata": {},
   "source": [
    "Since the predictions are floating point values, it will not be feasible to compare the predicted labels with true test labels. So, we will round off the output which will convert the float values into an integer. Further,we  will use np.argmax() to select the index number which has a higher value in a row.\n",
    "\n",
    "For example, let's assume a prediction for one test image to be 0 1 0 0 0 0 0 0 0 0, the output for this should be a class label 1."
   ]
  },
  {
   "cell_type": "code",
   "execution_count": 49,
   "metadata": {},
   "outputs": [],
   "source": [
    "predicted_classes = np.argmax(np.round(predicted_classes),axis=1)\n"
   ]
  },
  {
   "cell_type": "code",
   "execution_count": 50,
   "metadata": {},
   "outputs": [
    {
     "data": {
      "text/plain": [
       "((400,), (400,))"
      ]
     },
     "execution_count": 50,
     "metadata": {},
     "output_type": "execute_result"
    }
   ],
   "source": [
    "predicted_classes.shape, y_test.shape\n"
   ]
  },
  {
   "cell_type": "code",
   "execution_count": 51,
   "metadata": {},
   "outputs": [
    {
     "name": "stdout",
     "output_type": "stream",
     "text": [
      "Found 389 correct labels\n"
     ]
    }
   ],
   "source": [
    "correct = np.where(predicted_classes==y_test)[0]\n",
    "print(\"Found %d correct labels\" % len(correct))"
   ]
  },
  {
   "cell_type": "code",
   "execution_count": 52,
   "metadata": {},
   "outputs": [
    {
     "data": {
      "image/png": "[encoded data removed]",
      "text/plain": [
       "<matplotlib.figure.Figure at 0x7f40de3ca240>"
      ]
     },
     "metadata": {},
     "output_type": "display_data"
    }
   ],
   "source": [
    "for i, correct in enumerate(correct[:3]):\n",
    "    plt.subplot(3,3,i+1)\n",
    "    plt.imshow(X_test[correct].reshape(50,50), cmap='gray', interpolation='none')\n",
    "    plt.title(\"Predicted {}, Class {}\".format(predicted_classes[correct],y_test[correct]))\n",
    "    plt.tight_layout()\n"
   ]
  },
  {
   "cell_type": "code",
   "execution_count": 53,
   "metadata": {},
   "outputs": [
    {
     "name": "stdout",
     "output_type": "stream",
     "text": [
      "Found 11 incorrect labels\n"
     ]
    },
    {
     "data": {
      "image/png": "[encoded data removed]",
      "text/plain": [
       "<matplotlib.figure.Figure at 0x7f40de3cad68>"
      ]
     },
     "metadata": {},
     "output_type": "display_data"
    }
   ],
   "source": [
    "incorrect = np.where(predicted_classes!=y_test)[0]\n",
    "print(\"Found %d incorrect labels\" % len(incorrect))\n",
    "for i, incorrect in enumerate(incorrect[:3]):\n",
    "    plt.subplot(3,3,i+1)\n",
    "    plt.imshow(X_test[incorrect].reshape(50,50), cmap='gray', interpolation='none')\n",
    "    plt.title(\"Predicted {}, Class {}\".format(predicted_classes[incorrect], y_test[incorrect]))\n",
    "    plt.tight_layout()"
   ]
  },
  {
   "cell_type": "markdown",
   "metadata": {},
   "source": [
    "By looking at a few images,I wasnot sure as to why our model was not able to classify the above images correctly, but it seems like a variety of the similar patterns present on multiple classes affect the performance of the classifier although CNN is a robust architecture."
   ]
  },
  {
   "cell_type": "markdown",
   "metadata": {},
   "source": [
    "# Classification Report\n",
    "Classification report will help us in identifying the misclassified classes in more detail.We will be able to observe for which class the model performed bad out of the given 4 classes."
   ]
  },
  {
   "cell_type": "code",
   "execution_count": 54,
   "metadata": {},
   "outputs": [],
   "source": [
    "binencoder = LabelBinarizer()\n",
    "y = binencoder.fit_transform(y)"
   ]
  },
  {
   "cell_type": "code",
   "execution_count": 56,
   "metadata": {},
   "outputs": [
    {
     "name": "stdout",
     "output_type": "stream",
     "text": [
      "              precision    recall  f1-score   support\n",
      "\n",
      "     Class 0       0.98      1.00      0.99       109\n",
      "     Class 1       1.00      0.97      0.98        99\n",
      "     Class 2       0.91      0.98      0.94        92\n",
      "     Class 3       1.00      0.94      0.97       100\n",
      "\n",
      "    accuracy                           0.97       400\n",
      "   macro avg       0.97      0.97      0.97       400\n",
      "weighted avg       0.97      0.97      0.97       400\n",
      "\n"
     ]
    }
   ],
   "source": [
    "num_classes = 4\n",
    "from sklearn.metrics import classification_report\n",
    "target_names = [\"Class {}\".format(i) for i in range(num_classes)]\n",
    "print(classification_report(y_test, predicted_classes, target_names=target_names))"
   ]
  },
  {
   "cell_type": "code",
   "execution_count": 62,
   "metadata": {},
   "outputs": [
    {
     "data": {
      "image/png": "[encoded data removed]",
      "text/plain": [
       "<matplotlib.figure.Figure at 0x7f40dcbe44e0>"
      ]
     },
     "metadata": {},
     "output_type": "display_data"
    }
   ],
   "source": [
    "X_images = X_train.reshape((-1,50,50))\n",
    "\n",
    "plt.imshow(X_images[1108])\n",
    "plt.show()"
   ]
  },
  {
   "cell_type": "code",
   "execution_count": 63,
   "metadata": {},
   "outputs": [
    {
     "ename": "IndexError",
     "evalue": "index 4 is out of bounds for axis 0 with size 4",
     "output_type": "error",
     "traceback": [
      "\u001b[0;31m---------------------------------------------------------------------------\u001b[0m",
      "\u001b[0;31mIndexError\u001b[0m                                Traceback (most recent call last)",
      "\u001b[0;32m<ipython-input-63-0907f08281ef>\u001b[0m in \u001b[0;36m<module>\u001b[0;34m()\u001b[0m\n\u001b[1;32m      1\u001b[0m \u001b[0mimgTrans\u001b[0m \u001b[0;34m=\u001b[0m \u001b[0mX_images\u001b[0m\u001b[0;34m[\u001b[0m\u001b[0;36m110\u001b[0m\u001b[0;34m]\u001b[0m\u001b[0;34m.\u001b[0m\u001b[0mreshape\u001b[0m\u001b[0;34m(\u001b[0m\u001b[0;34m-\u001b[0m\u001b[0;36m1\u001b[0m\u001b[0;34m,\u001b[0m\u001b[0;36m50\u001b[0m\u001b[0;34m,\u001b[0m\u001b[0;36m50\u001b[0m\u001b[0;34m,\u001b[0m\u001b[0;36m1\u001b[0m\u001b[0;34m)\u001b[0m\u001b[0;34m\u001b[0m\u001b[0;34m\u001b[0m\u001b[0m\n\u001b[1;32m      2\u001b[0m \u001b[0mpredictions\u001b[0m \u001b[0;34m=\u001b[0m \u001b[0mmodel\u001b[0m\u001b[0;34m.\u001b[0m\u001b[0mpredict\u001b[0m\u001b[0;34m(\u001b[0m\u001b[0mimgTrans\u001b[0m\u001b[0;34m)\u001b[0m\u001b[0;34m\u001b[0m\u001b[0;34m\u001b[0m\u001b[0m\n\u001b[0;32m----> 3\u001b[0;31m \u001b[0mbinencoder\u001b[0m\u001b[0;34m.\u001b[0m\u001b[0mclasses_\u001b[0m\u001b[0;34m[\u001b[0m\u001b[0mnp\u001b[0m\u001b[0;34m.\u001b[0m\u001b[0margmax\u001b[0m\u001b[0;34m(\u001b[0m\u001b[0mpredictions\u001b[0m\u001b[0;34m)\u001b[0m\u001b[0;34m]\u001b[0m\u001b[0;34m\u001b[0m\u001b[0;34m\u001b[0m\u001b[0m\n\u001b[0m",
      "\u001b[0;31mIndexError\u001b[0m: index 4 is out of bounds for axis 0 with size 4"
     ]
    }
   ],
   "source": [
    "imgTrans = X_images[110].reshape(-1,50,50,1)\n",
    "predictions = model.predict(imgTrans)\n",
    "binencoder.classes_[np.argmax(predictions)]"
   ]
  },
  {
   "cell_type": "code",
   "execution_count": null,
   "metadata": {},
   "outputs": [],
   "source": [
    "#that mean the letter belongs to class 2 "
   ]
  },
  {
   "cell_type": "code",
   "execution_count": null,
   "metadata": {},
   "outputs": [],
   "source": []
  }
 ],
 "metadata": {
  "kernelspec": {
   "display_name": "Python 3",
   "language": "python",
   "name": "python3"
  },
  "language_info": {
   "codemirror_mode": {
    "name": "ipython",
    "version": 3
   },
   "file_extension": ".py",
   "mimetype": "text/x-python",
   "name": "python",
   "nbconvert_exporter": "python",
   "pygments_lexer": "ipython3",
   "version": "3.6.9"
  }
 },
 "nbformat": 4,
 "nbformat_minor": 5
}
